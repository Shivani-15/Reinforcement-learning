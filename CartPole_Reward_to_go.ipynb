{
  "cells": [
    {
      "cell_type": "code",
      "execution_count": 1,
      "id": "eb707afb",
      "metadata": {
        "id": "eb707afb"
      },
      "outputs": [],
      "source": [
        "import gym\n",
        "import numpy as np\n",
        "import matplotlib.pyplot as plt\n",
        "from collections import deque\n",
        "\n",
        "import torch\n",
        "import torch.nn as nn\n",
        "import torch.nn.functional as F\n",
        "import torch.optim as optim\n",
        "from torch.distributions import Categorical\n"
      ]
    },
    {
      "cell_type": "code",
      "execution_count": 2,
      "id": "9297a2bd",
      "metadata": {
        "colab": {
          "base_uri": "https://localhost:8080/"
        },
        "id": "9297a2bd",
        "outputId": "4c4fe6c9-2b6d-42a4-f037-e55af9aab799"
      },
      "outputs": [
        {
          "name": "stderr",
          "output_type": "stream",
          "text": [
            "c:\\Python39\\lib\\site-packages\\gym\\envs\\registration.py:555: UserWarning: \u001b[33mWARN: The environment CartPole-v0 is out of date. You should consider upgrading to version `v1`.\u001b[0m\n",
            "  logger.warn(\n"
          ]
        }
      ],
      "source": [
        "env = gym.make('CartPole-v0')\n"
      ]
    },
    {
      "cell_type": "code",
      "execution_count": 3,
      "id": "f8c2b3e1",
      "metadata": {
        "id": "f8c2b3e1"
      },
      "outputs": [],
      "source": [
        "class Policy(nn.Module):\n",
        "    def __init__(self, state_size=4, action_size=2, hidden_size=32):\n",
        "        super(Policy, self).__init__()\n",
        "        self.fc1 = nn.Linear(state_size, hidden_size)\n",
        "        self.fc2 = nn.Linear(hidden_size, action_size)\n",
        "        \n",
        "    def forward(self, state):\n",
        "        x = F.relu(self.fc1(state))\n",
        "        x = self.fc2(x)\n",
        "        return F.softmax(x, dim=1)\n",
        "    \n",
        "    def act(self, state):\n",
        "        state = torch.from_numpy(state).float().unsqueeze(0)\n",
        "        probs = self.forward(state).cpu()\n",
        "        model = Categorical(probs)\n",
        "        action = model.sample()\n",
        "        return action.item(), model.log_prob(action)\n",
        "    "
      ]
    },
    {
      "cell_type": "code",
      "execution_count": 4,
      "id": "ffe1abcf",
      "metadata": {
        "id": "ffe1abcf"
      },
      "outputs": [],
      "source": [
        "def reinforce(policy, policy_optimizer, n_episodes=1000, max_t=1000, gamma=1.0, print_every=100):    \n",
        "    scores_deque = deque(maxlen=100)\n",
        "    scores = []\n",
        "    policy_loss_ = []\n",
        "    for e in range(n_episodes):\n",
        "        saved_log_probs = []\n",
        "        rewards = []\n",
        "        states = []\n",
        "        env.reset()\n",
        "        state = env.state        \n",
        "    \n",
        "        for t in range(max_t):\n",
        "            action, log_prob = policy.act(state)\n",
        "            saved_log_probs.append(log_prob)\n",
        "            state, reward, done, _, _= env.step(action)\n",
        "            rewards.append(reward)\n",
        "             \n",
        "            if done:\n",
        "                break\n",
        "            \n",
        "        R = rewards\n",
        "        i = len(rewards)-2\n",
        "        while i>=0:\n",
        "          R[i] = R[i] + R[i+1]\n",
        "          i= i-1\n",
        "\n",
        "        scores.append(sum(rewards))\n",
        "                       \n",
        "        for i, log_prob in enumerate(saved_log_probs):\n",
        "            policy_loss_.append(-log_prob * R[i])\n",
        "    \n",
        "    #print(len(policy_loss_))\n",
        "    #print(policy_loss_)\n",
        "    policy_loss = torch.cat(policy_loss_).sum()  \n",
        "    policy_optimizer.zero_grad()\n",
        "    policy_loss.backward()\n",
        "    policy_optimizer.step()\n",
        "\n",
        "    return np.mean(scores)\n"
      ]
    },
    {
      "cell_type": "code",
      "execution_count": 5,
      "id": "aaebbded",
      "metadata": {
        "colab": {
          "base_uri": "https://localhost:8080/"
        },
        "id": "aaebbded",
        "outputId": "452f219d-e7fa-45d1-95d4-a358cdd3efbd"
      },
      "outputs": [
        {
          "name": "stdout",
          "output_type": "stream",
          "text": [
            "Running iteration:  0\n",
            "Running iteration:  1\n",
            "Running iteration:  2\n",
            "Running iteration:  3\n",
            "Running iteration:  4\n",
            "Running iteration:  5\n",
            "Running iteration:  6\n",
            "Running iteration:  7\n",
            "Running iteration:  8\n",
            "Running iteration:  9\n",
            "Running iteration:  10\n",
            "Running iteration:  11\n",
            "Running iteration:  12\n",
            "Running iteration:  13\n",
            "Running iteration:  14\n",
            "Running iteration:  15\n",
            "Running iteration:  16\n",
            "Running iteration:  17\n",
            "Running iteration:  18\n",
            "Running iteration:  19\n",
            "Running iteration:  20\n",
            "Running iteration:  21\n",
            "Running iteration:  22\n",
            "Running iteration:  23\n",
            "Running iteration:  24\n",
            "Running iteration:  25\n",
            "Running iteration:  26\n",
            "Running iteration:  27\n",
            "Running iteration:  28\n",
            "Running iteration:  29\n",
            "Running iteration:  30\n",
            "Running iteration:  31\n",
            "Running iteration:  32\n",
            "Running iteration:  33\n",
            "Running iteration:  34\n",
            "Running iteration:  35\n",
            "Running iteration:  36\n",
            "Running iteration:  37\n",
            "Running iteration:  38\n",
            "Running iteration:  39\n",
            "Running iteration:  40\n",
            "Running iteration:  41\n",
            "Running iteration:  42\n",
            "Running iteration:  43\n",
            "Running iteration:  44\n",
            "Running iteration:  45\n",
            "Running iteration:  46\n",
            "Running iteration:  47\n",
            "Running iteration:  48\n",
            "Running iteration:  49\n",
            "Running iteration:  50\n",
            "Running iteration:  51\n",
            "Running iteration:  52\n",
            "Running iteration:  53\n",
            "Running iteration:  54\n",
            "Running iteration:  55\n",
            "Running iteration:  56\n",
            "Running iteration:  57\n",
            "Running iteration:  58\n",
            "Running iteration:  59\n",
            "Running iteration:  60\n",
            "Running iteration:  61\n",
            "Running iteration:  62\n",
            "Running iteration:  63\n",
            "Running iteration:  64\n",
            "Running iteration:  65\n",
            "Running iteration:  66\n",
            "Running iteration:  67\n",
            "Running iteration:  68\n",
            "Running iteration:  69\n",
            "Running iteration:  70\n",
            "Running iteration:  71\n",
            "Running iteration:  72\n",
            "Running iteration:  73\n"
          ]
        },
        {
          "ename": "KeyboardInterrupt",
          "evalue": "",
          "output_type": "error",
          "traceback": [
            "\u001b[1;31m---------------------------------------------------------------------------\u001b[0m",
            "\u001b[1;31mKeyboardInterrupt\u001b[0m                         Traceback (most recent call last)",
            "\u001b[1;32mc:\\Users\\Shivani\\Downloads\\CartPole_VanillaPG.ipynb Cell 5\u001b[0m in \u001b[0;36m<cell line: 5>\u001b[1;34m()\u001b[0m\n\u001b[0;32m      <a href='vscode-notebook-cell:/c%3A/Users/Shivani/Downloads/CartPole_VanillaPG.ipynb#W4sZmlsZQ%3D%3D?line=4'>5</a>\u001b[0m \u001b[39mfor\u001b[39;00m itr \u001b[39min\u001b[39;00m \u001b[39mrange\u001b[39m(\u001b[39m100\u001b[39m):\n\u001b[0;32m      <a href='vscode-notebook-cell:/c%3A/Users/Shivani/Downloads/CartPole_VanillaPG.ipynb#W4sZmlsZQ%3D%3D?line=5'>6</a>\u001b[0m     \u001b[39mprint\u001b[39m(\u001b[39m\"\u001b[39m\u001b[39mRunning iteration: \u001b[39m\u001b[39m\"\u001b[39m, itr)\n\u001b[1;32m----> <a href='vscode-notebook-cell:/c%3A/Users/Shivani/Downloads/CartPole_VanillaPG.ipynb#W4sZmlsZQ%3D%3D?line=6'>7</a>\u001b[0m     rewards\u001b[39m.\u001b[39mappend(reinforce(policy, policy_optimizer, n_episodes\u001b[39m=\u001b[39;49m\u001b[39m1000\u001b[39;49m, max_t \u001b[39m=\u001b[39;49m \u001b[39m500\u001b[39;49m))\n\u001b[0;32m      <a href='vscode-notebook-cell:/c%3A/Users/Shivani/Downloads/CartPole_VanillaPG.ipynb#W4sZmlsZQ%3D%3D?line=8'>9</a>\u001b[0m x_axis \u001b[39m=\u001b[39m [i \u001b[39mfor\u001b[39;00m i \u001b[39min\u001b[39;00m \u001b[39mrange\u001b[39m(\u001b[39m1\u001b[39m, \u001b[39m101\u001b[39m)]\n\u001b[0;32m     <a href='vscode-notebook-cell:/c%3A/Users/Shivani/Downloads/CartPole_VanillaPG.ipynb#W4sZmlsZQ%3D%3D?line=9'>10</a>\u001b[0m plt\u001b[39m.\u001b[39mplot(x_axis, rewards)\n",
            "\u001b[1;32mc:\\Users\\Shivani\\Downloads\\CartPole_VanillaPG.ipynb Cell 5\u001b[0m in \u001b[0;36mreinforce\u001b[1;34m(policy, policy_optimizer, n_episodes, max_t, gamma, print_every)\u001b[0m\n\u001b[0;32m     <a href='vscode-notebook-cell:/c%3A/Users/Shivani/Downloads/CartPole_VanillaPG.ipynb#W4sZmlsZQ%3D%3D?line=33'>34</a>\u001b[0m policy_loss \u001b[39m=\u001b[39m torch\u001b[39m.\u001b[39mcat(policy_loss_)\u001b[39m.\u001b[39msum()  \n\u001b[0;32m     <a href='vscode-notebook-cell:/c%3A/Users/Shivani/Downloads/CartPole_VanillaPG.ipynb#W4sZmlsZQ%3D%3D?line=34'>35</a>\u001b[0m policy_optimizer\u001b[39m.\u001b[39mzero_grad()\n\u001b[1;32m---> <a href='vscode-notebook-cell:/c%3A/Users/Shivani/Downloads/CartPole_VanillaPG.ipynb#W4sZmlsZQ%3D%3D?line=35'>36</a>\u001b[0m policy_loss\u001b[39m.\u001b[39;49mbackward()\n\u001b[0;32m     <a href='vscode-notebook-cell:/c%3A/Users/Shivani/Downloads/CartPole_VanillaPG.ipynb#W4sZmlsZQ%3D%3D?line=36'>37</a>\u001b[0m policy_optimizer\u001b[39m.\u001b[39mstep()\n\u001b[0;32m     <a href='vscode-notebook-cell:/c%3A/Users/Shivani/Downloads/CartPole_VanillaPG.ipynb#W4sZmlsZQ%3D%3D?line=38'>39</a>\u001b[0m \u001b[39mreturn\u001b[39;00m np\u001b[39m.\u001b[39mmean(scores)\n",
            "File \u001b[1;32m~\\AppData\\Roaming\\Python\\Python39\\site-packages\\torch\\_tensor.py:487\u001b[0m, in \u001b[0;36mTensor.backward\u001b[1;34m(self, gradient, retain_graph, create_graph, inputs)\u001b[0m\n\u001b[0;32m    477\u001b[0m \u001b[39mif\u001b[39;00m has_torch_function_unary(\u001b[39mself\u001b[39m):\n\u001b[0;32m    478\u001b[0m     \u001b[39mreturn\u001b[39;00m handle_torch_function(\n\u001b[0;32m    479\u001b[0m         Tensor\u001b[39m.\u001b[39mbackward,\n\u001b[0;32m    480\u001b[0m         (\u001b[39mself\u001b[39m,),\n\u001b[1;32m   (...)\u001b[0m\n\u001b[0;32m    485\u001b[0m         inputs\u001b[39m=\u001b[39minputs,\n\u001b[0;32m    486\u001b[0m     )\n\u001b[1;32m--> 487\u001b[0m torch\u001b[39m.\u001b[39;49mautograd\u001b[39m.\u001b[39;49mbackward(\n\u001b[0;32m    488\u001b[0m     \u001b[39mself\u001b[39;49m, gradient, retain_graph, create_graph, inputs\u001b[39m=\u001b[39;49minputs\n\u001b[0;32m    489\u001b[0m )\n",
            "File \u001b[1;32m~\\AppData\\Roaming\\Python\\Python39\\site-packages\\torch\\autograd\\__init__.py:200\u001b[0m, in \u001b[0;36mbackward\u001b[1;34m(tensors, grad_tensors, retain_graph, create_graph, grad_variables, inputs)\u001b[0m\n\u001b[0;32m    195\u001b[0m     retain_graph \u001b[39m=\u001b[39m create_graph\n\u001b[0;32m    197\u001b[0m \u001b[39m# The reason we repeat same the comment below is that\u001b[39;00m\n\u001b[0;32m    198\u001b[0m \u001b[39m# some Python versions print out the first line of a multi-line function\u001b[39;00m\n\u001b[0;32m    199\u001b[0m \u001b[39m# calls in the traceback and some print out the last line\u001b[39;00m\n\u001b[1;32m--> 200\u001b[0m Variable\u001b[39m.\u001b[39;49m_execution_engine\u001b[39m.\u001b[39;49mrun_backward(  \u001b[39m# Calls into the C++ engine to run the backward pass\u001b[39;49;00m\n\u001b[0;32m    201\u001b[0m     tensors, grad_tensors_, retain_graph, create_graph, inputs,\n\u001b[0;32m    202\u001b[0m     allow_unreachable\u001b[39m=\u001b[39;49m\u001b[39mTrue\u001b[39;49;00m, accumulate_grad\u001b[39m=\u001b[39;49m\u001b[39mTrue\u001b[39;49;00m)\n",
            "\u001b[1;31mKeyboardInterrupt\u001b[0m: "
          ]
        }
      ],
      "source": [
        "\n",
        "policy = Policy()\n",
        "policy_optimizer = optim.Adam(policy.parameters(), lr=1e-2)\n",
        "rewards = []\n",
        "\n",
        "for itr in range(100):\n",
        "    print(\"Running iteration: \", itr)\n",
        "    rewards.append(reinforce(policy, policy_optimizer, n_episodes=1000, max_t = 500))\n",
        "\n",
        "x_axis = [i for i in range(1, 101)]\n",
        "plt.plot(x_axis, rewards)  \n"
      ]
    },
    {
      "cell_type": "code",
      "execution_count": 8,
      "id": "74487fdb",
      "metadata": {},
      "outputs": [
        {
          "data": {
            "text/plain": [
              "Text(0, 0.5, 'Mean score')"
            ]
          },
          "execution_count": 8,
          "metadata": {},
          "output_type": "execute_result"
        },
        {
          "data": {
            "image/png": "[encoded data removed]",
            "text/plain": [
              "<Figure size 432x288 with 1 Axes>"
            ]
          },
          "metadata": {
            "needs_background": "light"
          },
          "output_type": "display_data"
        }
      ],
      "source": [
        "x_axis = [i for i in range(1, len(rewards)+1)]\n",
        "plt.plot(x_axis, rewards)\n",
        "plt.title(\"Policy gradient with reward to go\")\n",
        "plt.xlabel(\"Epoch\")\n",
        "plt.ylabel(\"Mean score\")"
      ]
    }
  ],
  "metadata": {
    "accelerator": "GPU",
    "colab": {
      "provenance": []
    },
    "gpuClass": "standard",
    "kernelspec": {
      "display_name": "Python 3 (ipykernel)",
      "language": "python",
      "name": "python3"
    },
    "language_info": {
      "codemirror_mode": {
        "name": "ipython",
        "version": 3
      },
      "file_extension": ".py",
      "mimetype": "text/x-python",
      "name": "python",
      "nbconvert_exporter": "python",
      "pygments_lexer": "ipython3",
      "version": "3.9.0"
    }
  },
  "nbformat": 4,
  "nbformat_minor": 5
}
