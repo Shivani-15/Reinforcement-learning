{
  "cells": [
    {
      "cell_type": "code",
      "execution_count": 1,
      "metadata": {
        "id": "eb707afb"
      },
      "outputs": [],
      "source": [
        "import gym\n",
        "import numpy as np\n",
        "import matplotlib.pyplot as plt\n",
        "from collections import deque\n",
        "\n",
        "import torch\n",
        "import torch.nn as nn\n",
        "import torch.nn.functional as F\n",
        "import torch.optim as optim\n",
        "from torch.distributions import Categorical\n"
      ],
      "id": "eb707afb"
    },
    {
      "cell_type": "code",
      "execution_count": null,
      "metadata": {
        "id": "9297a2bd"
      },
      "outputs": [],
      "source": [
        "env = gym.make('CartPole-v0')\n"
      ],
      "id": "9297a2bd"
    },
    {
      "cell_type": "code",
      "execution_count": 3,
      "metadata": {
        "id": "f8c2b3e1"
      },
      "outputs": [],
      "source": [
        "class Policy(nn.Module):\n",
        "    def __init__(self, state_size=4, action_size=2, hidden_size=32):\n",
        "        super(Policy, self).__init__()\n",
        "        self.fc1 = nn.Linear(state_size, hidden_size)\n",
        "        self.fc2 = nn.Linear(hidden_size, action_size)\n",
        "        \n",
        "    def forward(self, state):\n",
        "        x = F.relu(self.fc1(state))\n",
        "        x = self.fc2(x)\n",
        "        return F.softmax(x, dim=1)\n",
        "    \n",
        "    def act(self, state):\n",
        "        state = torch.from_numpy(state).float().unsqueeze(0)\n",
        "        probs = self.forward(state).cpu()\n",
        "        model = Categorical(probs)\n",
        "        action = model.sample()\n",
        "        return action.item(), model.log_prob(action)\n",
        "    "
      ],
      "id": "f8c2b3e1"
    },
    {
      "cell_type": "code",
      "source": [
        "class ValueNet(torch.nn.Module):\n",
        "    def __init__(self, state_size=4, hidden_layer_size=64):\n",
        "        super(ValueNet, self).__init__()\n",
        "        self.fc1 = torch.nn.Linear(state_size, hidden_layer_size)\n",
        "        self.fc2 = torch.nn.Linear(hidden_layer_size, 1)\n",
        "    def forward(self, x):\n",
        "        x = torch.from_numpy(x).float()\n",
        "        return self.fc2(torch.nn.functional.relu(self.fc1(x)))"
      ],
      "metadata": {
        "id": "_X1aXgQqRx0a"
      },
      "id": "_X1aXgQqRx0a",
      "execution_count": 4,
      "outputs": []
    },
    {
      "cell_type": "code",
      "execution_count": 5,
      "metadata": {
        "id": "ffe1abcf"
      },
      "outputs": [],
      "source": [
        "def reinforce(policy, policy_optimizer, value_net, value_net_optimizer, n_episodes=1000, max_t=1000, gamma=1.0, print_every=100):    \n",
        "    scores_deque = deque(maxlen=100)\n",
        "    scores = []\n",
        "    policy_loss_ = []\n",
        "    value_net_loss = []\n",
        "    for e in range(n_episodes):\n",
        "        saved_log_probs = []\n",
        "        rewards = []\n",
        "        values = []\n",
        "        states = []\n",
        "        env.reset()\n",
        "        state = env.state        \n",
        "    \n",
        "        for t in range(max_t):\n",
        "            action, log_prob = policy.act(state)\n",
        "            value = value_net(state)\n",
        "            saved_log_probs.append(log_prob)\n",
        "            state, reward, done, _= env.step(action)\n",
        "            rewards.append(reward)\n",
        "            values.append(value)\n",
        "             \n",
        "            if done:\n",
        "                break\n",
        "            \n",
        "        R = rewards\n",
        "        i = len(rewards)-2\n",
        "        while i>=0:\n",
        "          R[i] = R[i] + R[i+1]\n",
        "          i= i-1\n",
        "\n",
        "        scores.append(R[0])\n",
        "                       \n",
        "        for i, log_prob in enumerate(saved_log_probs):\n",
        "            policy_loss_.append(-log_prob * (R[i]-values[i]))\n",
        "\n",
        "        for i,value in enumerate(values):\n",
        "            value_net_loss.append((values[i] - R[i])**2)\n",
        "    \n",
        "    #print(len(policy_loss_))\n",
        "    #print(policy_loss_)\n",
        "    policy_loss = torch.cat(policy_loss_).sum()  \n",
        "    policy_optimizer.zero_grad()\n",
        "    policy_loss.backward(retain_graph=True)\n",
        "    policy_optimizer.step()\n",
        "\n",
        "    value_net_loss = torch.cat(values).mean()\n",
        "    value_net_optimizer.zero_grad()\n",
        "    value_net_loss.backward()\n",
        "    value_net_optimizer.step()\n",
        "\n",
        "    return np.mean(scores)\n"
      ],
      "id": "ffe1abcf"
    },
    {
      "cell_type": "code",
      "execution_count": 6,
      "metadata": {
        "colab": {
          "base_uri": "https://localhost:8080/",
          "height": 1000
        },
        "id": "aaebbded",
        "outputId": "cb5ad006-350f-42bd-a0ab-0d435d5c5db7"
      },
      "outputs": [
        {
          "output_type": "stream",
          "name": "stdout",
          "text": [
            "Running iteration:  0\n",
            "Running iteration:  1\n",
            "Running iteration:  2\n",
            "Running iteration:  3\n",
            "Running iteration:  4\n",
            "Running iteration:  5\n",
            "Running iteration:  6\n",
            "Running iteration:  7\n",
            "Running iteration:  8\n",
            "Running iteration:  9\n",
            "Running iteration:  10\n",
            "Running iteration:  11\n",
            "Running iteration:  12\n",
            "Running iteration:  13\n",
            "Running iteration:  14\n",
            "Running iteration:  15\n",
            "Running iteration:  16\n",
            "Running iteration:  17\n",
            "Running iteration:  18\n",
            "Running iteration:  19\n",
            "Running iteration:  20\n",
            "Running iteration:  21\n",
            "Running iteration:  22\n",
            "Running iteration:  23\n",
            "Running iteration:  24\n",
            "Running iteration:  25\n",
            "Running iteration:  26\n",
            "Running iteration:  27\n",
            "Running iteration:  28\n",
            "Running iteration:  29\n",
            "Running iteration:  30\n",
            "Running iteration:  31\n",
            "Running iteration:  32\n",
            "Running iteration:  33\n",
            "Running iteration:  34\n",
            "Running iteration:  35\n",
            "Running iteration:  36\n",
            "Running iteration:  37\n",
            "Running iteration:  38\n",
            "Running iteration:  39\n",
            "Running iteration:  40\n",
            "Running iteration:  41\n",
            "Running iteration:  42\n",
            "Running iteration:  43\n",
            "Running iteration:  44\n",
            "Running iteration:  45\n",
            "Running iteration:  46\n",
            "Running iteration:  47\n",
            "Running iteration:  48\n",
            "Running iteration:  49\n",
            "Running iteration:  50\n",
            "Running iteration:  51\n",
            "Running iteration:  52\n",
            "Running iteration:  53\n",
            "Running iteration:  54\n",
            "Running iteration:  55\n",
            "Running iteration:  56\n",
            "Running iteration:  57\n",
            "Running iteration:  58\n",
            "Running iteration:  59\n",
            "Running iteration:  60\n",
            "Running iteration:  61\n",
            "Running iteration:  62\n",
            "Running iteration:  63\n",
            "Running iteration:  64\n",
            "Running iteration:  65\n",
            "Running iteration:  66\n",
            "Running iteration:  67\n",
            "Running iteration:  68\n",
            "Running iteration:  69\n",
            "Running iteration:  70\n",
            "Running iteration:  71\n",
            "Running iteration:  72\n",
            "Running iteration:  73\n",
            "Running iteration:  74\n",
            "Running iteration:  75\n",
            "Running iteration:  76\n",
            "Running iteration:  77\n",
            "Running iteration:  78\n",
            "Running iteration:  79\n",
            "Running iteration:  80\n",
            "Running iteration:  81\n",
            "Running iteration:  82\n",
            "Running iteration:  83\n",
            "Running iteration:  84\n",
            "Running iteration:  85\n",
            "Running iteration:  86\n",
            "Running iteration:  87\n",
            "Running iteration:  88\n",
            "Running iteration:  89\n",
            "Running iteration:  90\n",
            "Running iteration:  91\n",
            "Running iteration:  92\n",
            "Running iteration:  93\n",
            "Running iteration:  94\n",
            "Running iteration:  95\n",
            "Running iteration:  96\n",
            "Running iteration:  97\n",
            "Running iteration:  98\n",
            "Running iteration:  99\n",
            "Running iteration:  100\n",
            "Running iteration:  101\n",
            "Running iteration:  102\n",
            "Running iteration:  103\n",
            "Running iteration:  104\n",
            "Running iteration:  105\n",
            "Running iteration:  106\n",
            "Running iteration:  107\n",
            "Running iteration:  108\n",
            "Running iteration:  109\n",
            "Running iteration:  110\n",
            "Running iteration:  111\n",
            "Running iteration:  112\n",
            "Running iteration:  113\n",
            "Running iteration:  114\n",
            "Running iteration:  115\n",
            "Running iteration:  116\n",
            "Running iteration:  117\n",
            "Running iteration:  118\n",
            "Running iteration:  119\n",
            "Running iteration:  120\n",
            "Running iteration:  121\n",
            "Running iteration:  122\n",
            "Running iteration:  123\n",
            "Running iteration:  124\n",
            "Running iteration:  125\n",
            "Running iteration:  126\n",
            "Running iteration:  127\n",
            "Running iteration:  128\n",
            "Running iteration:  129\n",
            "Running iteration:  130\n",
            "Running iteration:  131\n",
            "Running iteration:  132\n",
            "Running iteration:  133\n",
            "Running iteration:  134\n",
            "Running iteration:  135\n",
            "Running iteration:  136\n",
            "Running iteration:  137\n",
            "Running iteration:  138\n",
            "Running iteration:  139\n",
            "Running iteration:  140\n",
            "Running iteration:  141\n"
          ]
        },
        {
          "output_type": "error",
          "ename": "KeyboardInterrupt",
          "evalue": "ignored",
          "traceback": [
            "\u001b[0;31m---------------------------------------------------------------------------\u001b[0m",
            "\u001b[0;31mKeyboardInterrupt\u001b[0m                         Traceback (most recent call last)",
            "\u001b[0;32m<ipython-input-6-8364848bed6d>\u001b[0m in \u001b[0;36m<cell line: 7>\u001b[0;34m()\u001b[0m\n\u001b[1;32m      7\u001b[0m \u001b[0;32mfor\u001b[0m \u001b[0mitr\u001b[0m \u001b[0;32min\u001b[0m \u001b[0mrange\u001b[0m\u001b[0;34m(\u001b[0m\u001b[0;36m500\u001b[0m\u001b[0;34m)\u001b[0m\u001b[0;34m:\u001b[0m\u001b[0;34m\u001b[0m\u001b[0;34m\u001b[0m\u001b[0m\n\u001b[1;32m      8\u001b[0m     \u001b[0mprint\u001b[0m\u001b[0;34m(\u001b[0m\u001b[0;34m\"Running iteration: \"\u001b[0m\u001b[0;34m,\u001b[0m \u001b[0mitr\u001b[0m\u001b[0;34m)\u001b[0m\u001b[0;34m\u001b[0m\u001b[0;34m\u001b[0m\u001b[0m\n\u001b[0;32m----> 9\u001b[0;31m     \u001b[0mrewards\u001b[0m\u001b[0;34m.\u001b[0m\u001b[0mappend\u001b[0m\u001b[0;34m(\u001b[0m\u001b[0mreinforce\u001b[0m\u001b[0;34m(\u001b[0m\u001b[0mpolicy\u001b[0m\u001b[0;34m,\u001b[0m \u001b[0mpolicy_optimizer\u001b[0m\u001b[0;34m,\u001b[0m \u001b[0mvalue_net\u001b[0m\u001b[0;34m,\u001b[0m \u001b[0mvalue_net_optimizer\u001b[0m\u001b[0;34m,\u001b[0m \u001b[0mn_episodes\u001b[0m\u001b[0;34m=\u001b[0m\u001b[0;36m1000\u001b[0m\u001b[0;34m,\u001b[0m \u001b[0mmax_t\u001b[0m \u001b[0;34m=\u001b[0m \u001b[0;36m500\u001b[0m\u001b[0;34m)\u001b[0m\u001b[0;34m)\u001b[0m\u001b[0;34m\u001b[0m\u001b[0;34m\u001b[0m\u001b[0m\n\u001b[0m\u001b[1;32m     10\u001b[0m \u001b[0;34m\u001b[0m\u001b[0m\n\u001b[1;32m     11\u001b[0m \u001b[0mx_axis\u001b[0m \u001b[0;34m=\u001b[0m \u001b[0;34m[\u001b[0m\u001b[0mi\u001b[0m \u001b[0;32mfor\u001b[0m \u001b[0mi\u001b[0m \u001b[0;32min\u001b[0m \u001b[0mrange\u001b[0m\u001b[0;34m(\u001b[0m\u001b[0;36m1\u001b[0m\u001b[0;34m,\u001b[0m \u001b[0;36m501\u001b[0m\u001b[0;34m)\u001b[0m\u001b[0;34m]\u001b[0m\u001b[0;34m\u001b[0m\u001b[0;34m\u001b[0m\u001b[0m\n",
            "\u001b[0;32m<ipython-input-5-4d2c567a72a5>\u001b[0m in \u001b[0;36mreinforce\u001b[0;34m(policy, policy_optimizer, value_net, value_net_optimizer, n_episodes, max_t, gamma, print_every)\u001b[0m\n\u001b[1;32m     46\u001b[0m     \u001b[0mvalue_net_loss\u001b[0m \u001b[0;34m=\u001b[0m \u001b[0mtorch\u001b[0m\u001b[0;34m.\u001b[0m\u001b[0mcat\u001b[0m\u001b[0;34m(\u001b[0m\u001b[0mvalues\u001b[0m\u001b[0;34m)\u001b[0m\u001b[0;34m.\u001b[0m\u001b[0mmean\u001b[0m\u001b[0;34m(\u001b[0m\u001b[0;34m)\u001b[0m\u001b[0;34m\u001b[0m\u001b[0;34m\u001b[0m\u001b[0m\n\u001b[1;32m     47\u001b[0m     \u001b[0mvalue_net_optimizer\u001b[0m\u001b[0;34m.\u001b[0m\u001b[0mzero_grad\u001b[0m\u001b[0;34m(\u001b[0m\u001b[0;34m)\u001b[0m\u001b[0;34m\u001b[0m\u001b[0;34m\u001b[0m\u001b[0m\n\u001b[0;32m---> 48\u001b[0;31m     \u001b[0mvalue_net_loss\u001b[0m\u001b[0;34m.\u001b[0m\u001b[0mbackward\u001b[0m\u001b[0;34m(\u001b[0m\u001b[0;34m)\u001b[0m\u001b[0;34m\u001b[0m\u001b[0;34m\u001b[0m\u001b[0m\n\u001b[0m\u001b[1;32m     49\u001b[0m     \u001b[0mvalue_net_optimizer\u001b[0m\u001b[0;34m.\u001b[0m\u001b[0mstep\u001b[0m\u001b[0;34m(\u001b[0m\u001b[0;34m)\u001b[0m\u001b[0;34m\u001b[0m\u001b[0;34m\u001b[0m\u001b[0m\n\u001b[1;32m     50\u001b[0m \u001b[0;34m\u001b[0m\u001b[0m\n",
            "\u001b[0;32m/usr/local/lib/python3.10/dist-packages/torch/_tensor.py\u001b[0m in \u001b[0;36mbackward\u001b[0;34m(self, gradient, retain_graph, create_graph, inputs)\u001b[0m\n\u001b[1;32m    485\u001b[0m                 \u001b[0minputs\u001b[0m\u001b[0;34m=\u001b[0m\u001b[0minputs\u001b[0m\u001b[0;34m,\u001b[0m\u001b[0;34m\u001b[0m\u001b[0;34m\u001b[0m\u001b[0m\n\u001b[1;32m    486\u001b[0m             )\n\u001b[0;32m--> 487\u001b[0;31m         torch.autograd.backward(\n\u001b[0m\u001b[1;32m    488\u001b[0m             \u001b[0mself\u001b[0m\u001b[0;34m,\u001b[0m \u001b[0mgradient\u001b[0m\u001b[0;34m,\u001b[0m \u001b[0mretain_graph\u001b[0m\u001b[0;34m,\u001b[0m \u001b[0mcreate_graph\u001b[0m\u001b[0;34m,\u001b[0m \u001b[0minputs\u001b[0m\u001b[0;34m=\u001b[0m\u001b[0minputs\u001b[0m\u001b[0;34m\u001b[0m\u001b[0;34m\u001b[0m\u001b[0m\n\u001b[1;32m    489\u001b[0m         )\n",
            "\u001b[0;32m/usr/local/lib/python3.10/dist-packages/torch/autograd/__init__.py\u001b[0m in \u001b[0;36mbackward\u001b[0;34m(tensors, grad_tensors, retain_graph, create_graph, grad_variables, inputs)\u001b[0m\n\u001b[1;32m    198\u001b[0m     \u001b[0;31m# some Python versions print out the first line of a multi-line function\u001b[0m\u001b[0;34m\u001b[0m\u001b[0;34m\u001b[0m\u001b[0m\n\u001b[1;32m    199\u001b[0m     \u001b[0;31m# calls in the traceback and some print out the last line\u001b[0m\u001b[0;34m\u001b[0m\u001b[0;34m\u001b[0m\u001b[0m\n\u001b[0;32m--> 200\u001b[0;31m     Variable._execution_engine.run_backward(  # Calls into the C++ engine to run the backward pass\n\u001b[0m\u001b[1;32m    201\u001b[0m         \u001b[0mtensors\u001b[0m\u001b[0;34m,\u001b[0m \u001b[0mgrad_tensors_\u001b[0m\u001b[0;34m,\u001b[0m \u001b[0mretain_graph\u001b[0m\u001b[0;34m,\u001b[0m \u001b[0mcreate_graph\u001b[0m\u001b[0;34m,\u001b[0m \u001b[0minputs\u001b[0m\u001b[0;34m,\u001b[0m\u001b[0;34m\u001b[0m\u001b[0;34m\u001b[0m\u001b[0m\n\u001b[1;32m    202\u001b[0m         allow_unreachable=True, accumulate_grad=True)  # Calls into the C++ engine to run the backward pass\n",
            "\u001b[0;31mKeyboardInterrupt\u001b[0m: "
          ]
        }
      ],
      "source": [
        "\n",
        "policy = Policy()\n",
        "policy_optimizer = optim.Adam(policy.parameters(), lr=1e-2)\n",
        "value_net = ValueNet()\n",
        "value_net_optimizer = optim.Adam(value_net.parameters(), lr=1e-2)\n",
        "rewards = []\n",
        "\n",
        "for itr in range(500):\n",
        "    print(\"Running iteration: \", itr)\n",
        "    rewards.append(reinforce(policy, policy_optimizer, value_net, value_net_optimizer, n_episodes=1000, max_t = 500))\n",
        "\n",
        "x_axis = [i for i in range(1, 501)]\n",
        "plt.plot(x_axis, rewards)  \n"
      ],
      "id": "aaebbded"
    },
    {
      "cell_type": "code",
      "execution_count": 9,
      "metadata": {
        "id": "igTfWaL8SEDz",
        "colab": {
          "base_uri": "https://localhost:8080/",
          "height": 544
        },
        "outputId": "f926a0e9-5cc7-4bd4-deed-6289cb3645d5"
      },
      "outputs": [
        {
          "output_type": "stream",
          "name": "stderr",
          "text": [
            "/usr/local/lib/python3.10/dist-packages/ipykernel/ipkernel.py:283: DeprecationWarning: `should_run_async` will not call `transform_cell` automatically in the future. Please pass the result to `transformed_cell` argument and any exception that happen during thetransform in `preprocessing_exc_tuple` in IPython 7.17 and above.\n",
            "  and should_run_async(code)\n"
          ]
        },
        {
          "output_type": "execute_result",
          "data": {
            "text/plain": [
              "Text(0.5, 1.0, 'Policy Gradient with Baseline')"
            ]
          },
          "metadata": {},
          "execution_count": 9
        },
        {
          "output_type": "display_data",
          "data": {
            "text/plain": [
              "<Figure size 640x480 with 1 Axes>"
            ],
            "image/png": "[encoded data removed]"
          },
          "metadata": {}
        }
      ],
      "source": [
        "x_axis = [i for i in range(1, 142)]\n",
        "plt.plot(x_axis, rewards)  \n",
        "plt.xlabel('Epoch')\n",
        "plt.ylabel('Mean score')\n",
        "plt.title('Policy Gradient with Baseline')"
      ],
      "id": "igTfWaL8SEDz"
    }
  ],
  "metadata": {
    "colab": {
      "provenance": [],
      "gpuType": "T4"
    },
    "kernelspec": {
      "display_name": "Python 3 (ipykernel)",
      "language": "python",
      "name": "python3"
    },
    "language_info": {
      "codemirror_mode": {
        "name": "ipython",
        "version": 3
      },
      "file_extension": ".py",
      "mimetype": "text/x-python",
      "name": "python",
      "nbconvert_exporter": "python",
      "pygments_lexer": "ipython3",
      "version": "3.9.13"
    },
    "accelerator": "GPU",
    "gpuClass": "standard"
  },
  "nbformat": 4,
  "nbformat_minor": 5
}