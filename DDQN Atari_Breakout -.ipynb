{
  "cells": [
    {
      "cell_type": "code",
      "execution_count": 1,
      "id": "48d0303f",
      "metadata": {
        "colab": {
          "base_uri": "https://localhost:8080/",
          "height": 363
        },
        "id": "48d0303f",
        "outputId": "a46aba2e-07a6-40bc-a941-d2a311a60b6d"
      },
      "outputs": [],
      "source": [
        "import numpy as np\n",
        "import tensorflow as tf\n",
        "from tensorflow import keras\n",
        "from tensorflow.keras import layers\n",
        "import gym\n",
        "import matplotlib.pyplot as plt\n",
        "\n",
        "\n",
        "gamma = 0.99  \n",
        "epsilon = 1.0  \n",
        "epsilon_min = 0.1  \n",
        "epsilon_max = 1.0  \n",
        "epsilon_interval = (\n",
        "    epsilon_max - epsilon_min\n",
        ")  # Rate at which to reduce chance of random action being taken\n",
        "batch_size = 32  \n",
        "max_steps_per_episode = 10000\n",
        "env = gym.make('Breakout-v4',render_mode='rgb_array')\n",
        "num_actions = env.action_space.n\n"
      ]
    },
    {
      "cell_type": "code",
      "execution_count": 2,
      "id": "770ccfe0",
      "metadata": {
        "id": "770ccfe0"
      },
      "outputs": [],
      "source": [
        "color = np.array([210, 164, 74]).mean()\n",
        "\n",
        "def preprocess_state(state):\n",
        "\n",
        "    image = state[1:176:2, ::2]\n",
        "\n",
        "    #convert the image to greyscale\n",
        "    image = image.mean(axis=2)\n",
        "\n",
        "    #improve image contrast\n",
        "    image[image==color] = 0\n",
        "\n",
        "    #normalize the image\n",
        "    image = (image - 128) / 128 - 1\n",
        "\n",
        "    return image\n"
      ]
    },
    {
      "cell_type": "code",
      "execution_count": 3,
      "id": "c082cec9",
      "metadata": {
        "id": "c082cec9",
        "outputId": "e48584df-f002-494b-936b-51a3ebd4296f"
      },
      "outputs": [],
      "source": [
        "num_actions = 4\n",
        "\n",
        "\n",
        "def create_q_model():\n",
        "    # Network defined by the Deepmind paper\n",
        "    inputs = layers.Input(shape=(88, 80, 1,))\n",
        "\n",
        "    # Convolutions on the frames on the screen\n",
        "    layer1 = layers.Conv2D(32, 8, strides=4, activation=\"relu\")(inputs)\n",
        "    layer2 = layers.Conv2D(64, 4, strides=2, activation=\"relu\")(layer1)\n",
        "    layer3 = layers.Conv2D(64, 3, strides=1, activation=\"relu\")(layer2)\n",
        "\n",
        "    layer4 = layers.Flatten()(layer3)\n",
        "\n",
        "    layer5 = layers.Dense(512, activation=\"relu\")(layer4)\n",
        "    action = layers.Dense(num_actions, activation=\"linear\")(layer5)\n",
        "\n",
        "    return keras.Model(inputs=inputs, outputs=action)\n",
        "\n",
        "\n",
        "model = create_q_model()\n",
        "\n",
        "model_target = create_q_model()\n"
      ]
    },
    {
      "cell_type": "code",
      "execution_count": 4,
      "id": "5fa4d005",
      "metadata": {
        "id": "5fa4d005"
      },
      "outputs": [
        {
          "name": "stderr",
          "output_type": "stream",
          "text": [
            "c:\\Python39\\lib\\site-packages\\gym\\utils\\passive_env_checker.py:289: UserWarning: \u001b[33mWARN: No render fps was declared in the environment (env.metadata['render_fps'] is None or not defined), rendering may occur at inconsistent fps.\u001b[0m\n",
            "  logger.warn(\n"
          ]
        },
        {
          "name": "stdout",
          "output_type": "stream",
          "text": [
            "running reward: 1.92 at episode 36, frame count 10000\n"
          ]
        }
      ],
      "source": [
        "optimizer = keras.optimizers.Adam(learning_rate=0.00025, clipnorm=1.0)\n",
        "\n",
        "action_history = []\n",
        "state_history = []\n",
        "state_next_history = []\n",
        "rewards_history = []\n",
        "done_history = []\n",
        "episode_reward_history = []\n",
        "running_reward = 0\n",
        "episode_count = 0\n",
        "frame_count = 0\n",
        "\n",
        "epsilon_greedy_frames = 1000000.0\n",
        "\n",
        "update_target_network = 10000\n",
        "# Using huber loss for stability\n",
        "loss_function = keras.losses.Huber()\n",
        "loss_history = []\n",
        "\n",
        "running_reward_history = []\n",
        "\n",
        "while True:  \n",
        "    env.reset()\n",
        "    state = preprocess_state(env.render())\n",
        "    episode_reward = 0\n",
        "    \n",
        "\n",
        "    for timestep in range(max_steps_per_episode):\n",
        "        \n",
        "        frame_count += 1\n",
        "        if epsilon > np.random.rand(1)[0]:\n",
        "            \n",
        "            action = np.random.choice(num_actions)\n",
        "        else:\n",
        "            \n",
        "            state_tensor = tf.convert_to_tensor(state)\n",
        "            state_tensor = tf.expand_dims(state_tensor, 0)\n",
        "            action_probs = model(state_tensor, training=False)\n",
        "            \n",
        "            action = tf.argmax(action_probs[0]).numpy()\n",
        "\n",
        "        \n",
        "        epsilon -= epsilon_interval / epsilon_greedy_frames\n",
        "        epsilon = max(epsilon, epsilon_min)\n",
        "\n",
        "        \n",
        "        state_next, reward, done, _, _ = env.step(action)\n",
        "        state_next = preprocess_state(state_next)\n",
        "\n",
        "        episode_reward += reward\n",
        "\n",
        "        \n",
        "        action_history.append(action)\n",
        "        state_history.append(state)\n",
        "        state_next_history.append(state_next)\n",
        "        done_history.append(done)\n",
        "        rewards_history.append(reward)\n",
        "        state = state_next\n",
        "\n",
        "        \n",
        "        if len(done_history) > batch_size:\n",
        "            \n",
        "            \n",
        "            indices = np.random.choice(range(len(done_history)), size=batch_size)\n",
        "\n",
        "            \n",
        "            state_sample = np.array([state_history[i] for i in indices])\n",
        "            state_next_sample = np.array([state_next_history[i] for i in indices])\n",
        "            rewards_sample = [rewards_history[i] for i in indices]\n",
        "            action_sample = [action_history[i] for i in indices]\n",
        "            done_sample = tf.convert_to_tensor(\n",
        "                [float(done_history[i]) for i in indices]\n",
        "            )\n",
        "\n",
        "            # In DDQN, we use the main value network for action selection and the target network for outputting the Q values.\n",
        "            future_rewards = model.predict(state_next_sample, verbose=0)  # Predicting q-values of nest states using main network\n",
        "            best_action = tf.argmax(future_rewards, axis=1) # Choosing the action with maximum q-value\n",
        "\n",
        "            qvalue_best_action = model_target.predict(state_next_sample, verbose=0) # Predicting the q-values of next states using target network\n",
        "\n",
        "            best_qvalue_best_action = []\n",
        "            for i in range(0, len(best_action)):\n",
        "                best_qvalue_best_action.append(qvalue_best_action[i][best_action[i]]) # Selecting the q-value of the action selecting using main network\n",
        "            best_qvalue_best_action = np.array(best_qvalue_best_action)\n",
        "\n",
        "            updated_q_values = rewards_sample + gamma * best_qvalue_best_action\n",
        "         \n",
        "            updated_q_values = updated_q_values * (1 - done_sample) - done_sample\n",
        "\n",
        "            \n",
        "            masks = tf.one_hot(action_sample, num_actions)\n",
        "\n",
        "            with tf.GradientTape() as tape:\n",
        "                \n",
        "                q_values = model(state_sample)\n",
        "              \n",
        "                q_action = tf.reduce_sum(tf.multiply(q_values, masks), axis=1)\n",
        "                \n",
        "                loss = loss_function(updated_q_values, q_action)\n",
        "\n",
        "            loss_history.append(loss)\n",
        "\n",
        "            grads = tape.gradient(loss, model.trainable_variables)\n",
        "            optimizer.apply_gradients(zip(grads, model.trainable_variables))\n",
        "\n",
        "        if frame_count % update_target_network == 0:         \n",
        "            model_target.set_weights(model.get_weights())\n",
        "            template = \"running reward: {:.2f} at episode {}, frame count {}\"\n",
        "            print(template.format(running_reward, episode_count, frame_count))\n",
        "\n",
        "\n",
        "        if done:\n",
        "            break\n",
        "            \n",
        "    episode_reward_history.append(episode_reward)\n",
        "    running_reward = np.mean(episode_reward_history)\n",
        "    running_reward_history.append(running_reward)\n",
        "\n",
        "    episode_count += 1\n",
        "    \n",
        "    \n",
        "\n",
        "    if episode_count > 250:\n",
        "        print(\"Solved at episode {}!\".format(episode_count))\n",
        "        break"
      ]
    },
    {
      "cell_type": "code",
      "execution_count": null,
      "id": "4d5a17cf",
      "metadata": {},
      "outputs": [],
      "source": []
    },
    {
      "cell_type": "code",
      "execution_count": null,
      "id": "9ab2d635",
      "metadata": {},
      "outputs": [
        {
          "data": {
            "text/plain": [
              "Text(0, 0.5, 'Reward')"
            ]
          },
          "execution_count": 12,
          "metadata": {},
          "output_type": "execute_result"
        },
        {
          "data": {
            "image/png": "[encoded data removed]",
            "text/plain": [
              "<Figure size 432x288 with 1 Axes>"
            ]
          },
          "metadata": {
            "needs_background": "light"
          },
          "output_type": "display_data"
        }
      ],
      "source": [
        "episodes = [i for i in range(1, episode_count+1)]\n",
        "plt.plot(episodes, episode_reward_history)\n",
        "plt.title(\"Reward vs episode\")\n",
        "plt.xlabel(\"Episode number\")\n",
        "plt.ylabel(\"Reward\")"
      ]
    },
    {
      "cell_type": "code",
      "execution_count": null,
      "id": "9b7d1e39",
      "metadata": {},
      "outputs": [
        {
          "data": {
            "text/plain": [
              "Text(0, 0.5, 'Loss')"
            ]
          },
          "execution_count": 13,
          "metadata": {},
          "output_type": "execute_result"
        },
        {
          "data": {
            "image/png": "[encoded data removed]",
            "text/plain": [
              "<Figure size 432x288 with 1 Axes>"
            ]
          },
          "metadata": {
            "needs_background": "light"
          },
          "output_type": "display_data"
        }
      ],
      "source": [
        "x_axis = [i for i in range(1, len(loss_history)+1)]\n",
        "plt.plot(x_axis, loss_history)\n",
        "plt.title(\"Loss history\")\n",
        "plt.xlabel(\"Timestep\")\n",
        "plt.ylabel(\"Loss\")"
      ]
    },
    {
      "cell_type": "code",
      "execution_count": null,
      "id": "b321a5ee",
      "metadata": {},
      "outputs": [
        {
          "ename": "NameError",
          "evalue": "name 'running_reward_history' is not defined",
          "output_type": "error",
          "traceback": [
            "\u001b[1;31m---------------------------------------------------------------------------\u001b[0m",
            "\u001b[1;31mNameError\u001b[0m                                 Traceback (most recent call last)",
            "\u001b[1;32mc:\\Users\\Shivani\\Downloads\\DDQN Copy_of_Atari_Breakout -.ipynb Cell 8\u001b[0m in \u001b[0;36m<cell line: 2>\u001b[1;34m()\u001b[0m\n\u001b[0;32m      <a href='vscode-notebook-cell:/c%3A/Users/Shivani/Downloads/DDQN%20Copy_of_Atari_Breakout%20-.ipynb#X10sZmlsZQ%3D%3D?line=0'>1</a>\u001b[0m \u001b[39m# Plotting rewards vs episodes for analyzing the results\u001b[39;00m\n\u001b[1;32m----> <a href='vscode-notebook-cell:/c%3A/Users/Shivani/Downloads/DDQN%20Copy_of_Atari_Breakout%20-.ipynb#X10sZmlsZQ%3D%3D?line=1'>2</a>\u001b[0m x_axis \u001b[39m=\u001b[39m [i \u001b[39mfor\u001b[39;00m i \u001b[39min\u001b[39;00m \u001b[39mrange\u001b[39m(\u001b[39m1\u001b[39m, \u001b[39mlen\u001b[39m(running_reward_history)\u001b[39m+\u001b[39m\u001b[39m1\u001b[39m)]\n\u001b[0;32m      <a href='vscode-notebook-cell:/c%3A/Users/Shivani/Downloads/DDQN%20Copy_of_Atari_Breakout%20-.ipynb#X10sZmlsZQ%3D%3D?line=2'>3</a>\u001b[0m plt\u001b[39m.\u001b[39mplot(x_axis, running_reward_history)\n\u001b[0;32m      <a href='vscode-notebook-cell:/c%3A/Users/Shivani/Downloads/DDQN%20Copy_of_Atari_Breakout%20-.ipynb#X10sZmlsZQ%3D%3D?line=3'>4</a>\u001b[0m plt\u001b[39m.\u001b[39mtitle(\u001b[39m\"\u001b[39m\u001b[39mRunning Reward history\u001b[39m\u001b[39m\"\u001b[39m)\n",
            "\u001b[1;31mNameError\u001b[0m: name 'running_reward_history' is not defined"
          ]
        }
      ],
      "source": [
        "# Plotting rewards vs episodes for analyzing the results\n",
        "x_axis = [i for i in range(1, len(running_reward_history)+1)]\n",
        "plt.plot(x_axis, running_reward_history)\n",
        "plt.title(\"Running Reward history\")\n",
        "plt.xlabel(\"Timestep\")\n",
        "plt.ylabel(\"Running Reward\")"
      ]
    }
  ],
  "metadata": {
    "colab": {
      "provenance": []
    },
    "kernelspec": {
      "display_name": "Python 3",
      "language": "python",
      "name": "python3"
    },
    "language_info": {
      "codemirror_mode": {
        "name": "ipython",
        "version": 3
      },
      "file_extension": ".py",
      "mimetype": "text/x-python",
      "name": "python",
      "nbconvert_exporter": "python",
      "pygments_lexer": "ipython3",
      "version": "3.9.0"
    },
    "vscode": {
      "interpreter": {
        "hash": "81794d4967e6c3204c66dcd87b604927b115b27c00565d3d43f05ba2f3a2cb0d"
      }
    }
  },
  "nbformat": 4,
  "nbformat_minor": 5
}
